{
 "cells": [
  {
   "cell_type": "code",
   "execution_count": 72,
   "metadata": {},
   "outputs": [
    {
     "name": "stdout",
     "output_type": "stream",
     "text": [
      "Financial Analysis\n",
      "------------------\n",
      "Total Months: 86\n",
      "Total: $38382578\n",
      "Average Change: $-2315.12\n",
      "Greatest Increase in Profits: Feb-2012 $(1926159)\n",
      "Greatest Decrease in Profits: Sep-2013 ($-2196167)\n"
     ]
    }
   ],
   "source": [
    "# Import libraries for reading csv files\n",
    "import os\n",
    "import csv\n",
    "\n",
    "#open csv\n",
    "with open(csvpath, newline=\"\") as csvfile:\n",
    "    csvreader = csv.reader(csvfile, delimiter=\",\")\n",
    "    csv_header = next(csvreader)\n",
    "    \n",
    "    #List Variables\n",
    "    total_months = []\n",
    "    net_total = []\n",
    "    average_change = []\n",
    "    net_profits = 0\n",
    "    previous_profit = 0\n",
    "    current_profit = 0\n",
    "    \n",
    "    for row in csvreader:\n",
    "\n",
    "        #Add months list\n",
    "        total_months.append(row[0])\n",
    "        \n",
    "        #Set the month's current profit \n",
    "        current_profit = int(row[1])\n",
    "\n",
    "        #Add net total to the profits list\n",
    "        net_total.append(current_profit)\n",
    "\n",
    "        #Add all the net profits \n",
    "        net_profits = net_profits + current_profit\n",
    "\n",
    "        #Set the formula for profit change\n",
    "        profit_change = current_profit - previous_profit\n",
    "        average_change.append(profit_change)\n",
    "        \n",
    "        #Set the last month's profit as the main profit\n",
    "        previous_profit = int(row[1])\n",
    "\n",
    "#Find the total months and calculate the average in the change of monthly profits.\n",
    "total_months =len(total_months)\n",
    "average_change = format(((sum(average_change)-monthly_profit_change[0])/(total_months-1)),'.2f')\n",
    "\n",
    "#Find the maximum increase and month\n",
    "profits_greatest_increase = max(monthly_profit_change)\n",
    "month_greatest_increase = months[monthly_profit_change.index(profits_greatest_increase)]\n",
    "\n",
    "#Find the maximum decrease and month\n",
    "losses_greatest_decrease = min(monthly_profit_change)\n",
    "month_greatest_decrease = months[monthly_profit_change.index(losses_greatest_decrease)]\n",
    "\n",
    "print(\"Financial Analysis\")\n",
    "print(\"------------------\")\n",
    "print(f\"Total Months: {total_months}\")\n",
    "print(f\"Total: ${net_profits}\")\n",
    "print(f\"Average Change: ${average_change}\")\n",
    "print(f\"Greatest Increase in Profits: {month_greatest_increase} $({profits_greatest_increase})\")\n",
    "print(f\"Greatest Decrease in Profits: {month_greatest_decrease} (${losses_greatest_decrease})\")\n",
    "\n",
    "#Create text output\n",
    "output_file = os.path.join(\"financial_analysis.txt\")\n",
    "\n",
    "with open(output_file, \"w\",newline=\"\") as textfile:\n",
    "    textfile.write(\"Financial Analysis\\n\")\n",
    "    textfile.write(\"------------------\\n\")\n",
    "    textfile.write(f\"Total Months: {total_months}\\n\")\n",
    "    textfile.write(f\"Total: ${net_profits}\\n\")\n",
    "    textfile.write(f\"Average Change: ${average_change}\\n\")\n",
    "    textfile.write(f\"Greatest Increase in Profits: {month_greatest_increase} $({profits_greatest_increase})\\n\")\n",
    "    textfile.write(f\"Greatest Decrease in Profits: {month_greatest_decrease} (${losses_greatest_decrease})\\n\")\n",
    "\n",
    "        \n",
    "                       \n",
    "    \n",
    "\n",
    "\n"
   ]
  },
  {
   "cell_type": "code",
   "execution_count": null,
   "metadata": {},
   "outputs": [],
   "source": []
  }
 ],
 "metadata": {
  "kernelspec": {
   "display_name": "Python 3",
   "language": "python",
   "name": "python3"
  },
  "language_info": {
   "codemirror_mode": {
    "name": "ipython",
    "version": 3
   },
   "file_extension": ".py",
   "mimetype": "text/x-python",
   "name": "python",
   "nbconvert_exporter": "python",
   "pygments_lexer": "ipython3",
   "version": "3.8.3"
  }
 },
 "nbformat": 4,
 "nbformat_minor": 4
}
