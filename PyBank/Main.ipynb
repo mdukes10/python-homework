{
 "cells": [
  {
   "cell_type": "code",
   "execution_count": 3,
   "metadata": {},
   "outputs": [
    {
     "name": "stdout",
     "output_type": "stream",
     "text": [
      "Financial Analysis\n",
      "------------------\n",
      "Total Months: 86\n",
      "Total: $38382578\n",
      "Average Change: $-2315.12\n",
      "Greatest Increase in Profits: Feb-2012 $1926159\n",
      "Greatest Decrease in Profits: Sep-2013 $-2196167\n"
     ]
    }
   ],
   "source": [
    "#Import libraries to read csv file\n",
    "import csv\n",
    "import os\n",
    "\n",
    "#Set the path for the csv file\n",
    "csvpath = os.path.join(\"..\", \"Pybank\", \"budget_data.csv\")\n",
    "\n",
    "#Lists\n",
    "months = []\n",
    "profits = []\n",
    "month_profit_change = []\n",
    "net_profits = 0\n",
    "previous_profit = 0\n",
    "current_profit = 0\n",
    "\n",
    "#open the csv\n",
    "with open(csvpath,'r',newline='') as csvfile:\n",
    "    \n",
    "    csvreader = csv.reader(csvfile, delimiter=\",\")\n",
    "    csvheader = next(csvreader)\n",
    "\n",
    "    for row in csvreader:\n",
    "\n",
    "        months.append(row[0])\n",
    "        current_profit = int(row[1])\n",
    "        profits.append(current_profit)\n",
    "        net_profits = net_profits + current_profit\n",
    "        profit_change = current_profit - previous_profit\n",
    "        month_profit_change.append(profit_change)\n",
    "        previous_profit = int(row[1])\n",
    "\n",
    "\n",
    "#Find the total months and calculate the average in the change of monthly profits.\n",
    "total_months=len(months)\n",
    "average_change = format(((sum(month_profit_change)-month_profit_change[0])/(total_months-1)),'.2f')\n",
    "\n",
    "#Find the maximum increase and month\n",
    "profits_greatest_increase = max(month_profit_change)\n",
    "month_greatest_increase = months[month_profit_change.index(profits_greatest_increase)]\n",
    "\n",
    "#Find the maximum decrease and month\n",
    "losses_greatest_decrease = min(month_profit_change)\n",
    "month_greatest_decrease = months[month_profit_change.index(losses_greatest_decrease)]\n",
    "\n",
    "print(\"Financial Analysis\")\n",
    "print(\"------------------\")\n",
    "print(f\"Total Months: {total_months}\")\n",
    "print(f\"Total: ${net_profits}\")\n",
    "print(f\"Average Change: ${average_change}\")\n",
    "print(f\"Greatest Increase in Profits: {month_greatest_increase} ${profits_greatest_increase}\")\n",
    "print(f\"Greatest Decrease in Profits: {month_greatest_decrease} ${losses_greatest_decrease}\")\n",
    "\n",
    "#Create text output\n",
    "output_txt= os.path.join(\"financial_analysis.txt\")\n",
    "\n",
    "with open(output_txt, \"w\",newline=\"\") as textfile:\n",
    "    textfile.write(\"Financial Analysis\\n\")\n",
    "    textfile.write(\"------------------\\n\")\n",
    "    textfile.write(f\"Total Months: {total_months}\\n\")\n",
    "    textfile.write(f\"Total: ${net_profits}\\n\")\n",
    "    textfile.write(f\"Average Change: ${average_change}\\n\")\n",
    "    textfile.write(f\"Greatest Increase in Profits: {month_greatest_increase} $({profits_greatest_increase})\\n\")\n",
    "    textfile.write(f\"Greatest Decrease in Profits: {month_greatest_decrease} (${losses_greatest_decrease})\\n\")"
   ]
  },
  {
   "cell_type": "code",
   "execution_count": null,
   "metadata": {},
   "outputs": [],
   "source": []
  },
  {
   "cell_type": "code",
   "execution_count": null,
   "metadata": {},
   "outputs": [],
   "source": []
  }
 ],
 "metadata": {
  "kernelspec": {
   "display_name": "Python 3",
   "language": "python",
   "name": "python3"
  },
  "language_info": {
   "codemirror_mode": {
    "name": "ipython",
    "version": 3
   },
   "file_extension": ".py",
   "mimetype": "text/x-python",
   "name": "python",
   "nbconvert_exporter": "python",
   "pygments_lexer": "ipython3",
   "version": "3.8.3"
  }
 },
 "nbformat": 4,
 "nbformat_minor": 4
}
